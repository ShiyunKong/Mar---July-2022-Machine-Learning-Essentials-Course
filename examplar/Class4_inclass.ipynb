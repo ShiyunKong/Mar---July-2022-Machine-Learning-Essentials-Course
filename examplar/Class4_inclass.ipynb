{
 "nbformat": 4,
 "nbformat_minor": 0,
 "metadata": {
  "colab": {
   "name": "Class4_inclass.ipynb",
   "provenance": [],
   "collapsed_sections": []
  },
  "kernelspec": {
   "name": "python3",
   "display_name": "Python 3"
  },
  "language_info": {
   "name": "python"
  }
 },
 "cells": [
  {
   "cell_type": "markdown",
   "source": [
    "## Linear regression\n",
    "* using the first feature of diabetes dataset in sk-learn datasets"
   ],
   "metadata": {
    "id": "XO859GD8n8it"
   }
  },
  {
   "cell_type": "code",
   "source": [
    "import matplotlib.pyplot as plt\n",
    "import numpy as np\n",
    "import pandas as pd\n",
    "from sklearn import datasets, linear_model\n",
    "from sklearn.metrics import mean_squared_error, r2_score"
   ],
   "metadata": {
    "id": "Cq6DsUhAoGVy"
   },
   "execution_count": 1,
   "outputs": []
  },
  {
   "cell_type": "code",
   "source": [
    "# load the dataset\n",
    "diabetes_X, diabetes_y = datasets.load_diabetes(return_X_y=True)"
   ],
   "metadata": {
    "id": "k0cbI0PmoMoe"
   },
   "execution_count": 2,
   "outputs": []
  },
  {
   "cell_type": "code",
   "source": [
    "diabetes_X[:, np.newaxis, 2].shape"
   ],
   "metadata": {
    "colab": {
     "base_uri": "https://localhost:8080/"
    },
    "id": "1itL3UL7tijV",
    "outputId": "8e61ef52-dae3-4251-e006-d9afe6b1ed6c"
   },
   "execution_count": 8,
   "outputs": [
    {
     "output_type": "execute_result",
     "data": {
      "text/plain": [
       "(442, 1)"
      ]
     },
     "metadata": {},
     "execution_count": 8
    }
   ]
  },
  {
   "cell_type": "code",
   "source": [
    "# we only want to use column3(index2) as the predictor\n",
    "diabetes_X = diabetes_X[:, np.newaxis, 2]"
   ],
   "metadata": {
    "id": "BeJbaScMoRQa"
   },
   "execution_count": 9,
   "outputs": []
  },
  {
   "cell_type": "code",
   "source": [
    "diabetes_X.shape, diabetes_y.shape"
   ],
   "metadata": {
    "colab": {
     "base_uri": "https://localhost:8080/"
    },
    "id": "nR9-qofXuBhK",
    "outputId": "27ed5ff6-4efa-40ae-b031-3d3181f97187"
   },
   "execution_count": 10,
   "outputs": [
    {
     "output_type": "execute_result",
     "data": {
      "text/plain": [
       "((442, 1), (442,))"
      ]
     },
     "metadata": {},
     "execution_count": 10
    }
   ]
  },
  {
   "cell_type": "code",
   "source": [
    "# creating the train/test\n",
    "# we are using the last 20 samples as the test\n",
    "diabetes_X_train = diabetes_X[:-20]\n",
    "diabetes_X_test = diabetes_X[-20:]\n",
    "\n",
    "# do the same thing on y\n",
    "diabetes_y_train = diabetes_y[:-20]\n",
    "diabetes_y_test = diabetes_y[-20:]"
   ],
   "metadata": {
    "id": "WRvksBXKofZn"
   },
   "execution_count": 11,
   "outputs": []
  },
  {
   "cell_type": "code",
   "source": [
    "# creating an empty linear regression object\n",
    "regr = linear_model.LinearRegression(\n",
    "    # by entering nothing in the (), you are using the defaut parameters of the function\n",
    "    # you can also add parameter by yourself\n",
    "    # you can also add it later, after you declare this object, set_param\n",
    ")"
   ],
   "metadata": {
    "id": "xgZTQ7YPoigP"
   },
   "execution_count": 12,
   "outputs": []
  },
  {
   "cell_type": "code",
   "source": [
    "# fitting this linear regresion to the train_X and train_y\n",
    "regr.fit(diabetes_X_train, diabetes_y_train)"
   ],
   "metadata": {
    "colab": {
     "base_uri": "https://localhost:8080/"
    },
    "id": "t6lDt0heowfE",
    "outputId": "566557fa-dd9f-4c07-9c8c-ef47b6445e7b"
   },
   "execution_count": 13,
   "outputs": [
    {
     "output_type": "execute_result",
     "data": {
      "text/plain": [
       "LinearRegression()"
      ]
     },
     "metadata": {},
     "execution_count": 13
    }
   ]
  },
  {
   "cell_type": "code",
   "source": [
    "# beta1\n",
    "print(regr.coef_[0])\n",
    "# beta0\n",
    "print(regr.intercept_)"
   ],
   "metadata": {
    "colab": {
     "base_uri": "https://localhost:8080/"
    },
    "id": "UM_hGFJXoz9n",
    "outputId": "424c1a44-c888-43c5-f160-71711028a4fe"
   },
   "execution_count": 17,
   "outputs": [
    {
     "output_type": "stream",
     "name": "stdout",
     "text": [
      "938.2378612512637\n",
      "152.91886182616167\n"
     ]
    }
   ]
  },
  {
   "cell_type": "code",
   "source": [
    "# making a prediction on the test_X set\n",
    "diabetes_y_pred = regr.predict(diabetes_X_test)"
   ],
   "metadata": {
    "id": "Kziuw9pXo992"
   },
   "execution_count": 18,
   "outputs": []
  },
  {
   "cell_type": "code",
   "source": [
    "# The coefficients\n",
    "print(\"Coefficients: \\n\", regr.coef_[0])\n",
    "# The mean squared error\n",
    "print(\"Mean squared error: %.2f\" % mean_squared_error(diabetes_y_test, diabetes_y_pred))\n",
    "# The coefficient of determination: 1 is perfect prediction\n",
    "print(\"Coefficient of determination: %.2f\" % r2_score(diabetes_y_test, diabetes_y_pred))"
   ],
   "metadata": {
    "colab": {
     "base_uri": "https://localhost:8080/"
    },
    "id": "9N7I6kUEpCRM",
    "outputId": "102ba5a6-012c-46c8-eb52-de1da11189cd"
   },
   "execution_count": 19,
   "outputs": [
    {
     "output_type": "stream",
     "name": "stdout",
     "text": [
      "Coefficients: \n",
      " 938.2378612512637\n",
      "Mean squared error: 2548.07\n",
      "Coefficient of determination: 0.47\n"
     ]
    }
   ]
  },
  {
   "cell_type": "code",
   "source": [
    "plt.scatter(diabetes_X_test, diabetes_y_test, color='black', label='true points')\n",
    "plt.plot(diabetes_X_test, diabetes_y_pred, color='blue', label='regression')\n",
    "plt.xlabel('x value')\n",
    "plt.ylabel('y value')\n",
    "plt.title('prediction of our linear regression')\n",
    "plt.legend()\n",
    "plt.show()"
   ],
   "metadata": {
    "colab": {
     "base_uri": "https://localhost:8080/",
     "height": 295
    },
    "id": "MLMLYBAkpDZX",
    "outputId": "d1db6a6d-aa2e-4f2f-c6ef-bc31905c2e80"
   },
   "execution_count": 20,
   "outputs": [
    {
     "output_type": "display_data",
     "data": {
      "text/plain": [
       "<Figure size 432x288 with 1 Axes>"
      ],
      "image/png": "[encoded data removed]"
     },
     "metadata": {
      "needs_background": "light"
     }
    }
   ]
  },
  {
   "cell_type": "markdown",
   "source": [
    "## logistic regression"
   ],
   "metadata": {
    "id": "BNywGqpfTUZL"
   }
  },
  {
   "cell_type": "code",
   "source": [
    "from time import time\n",
    "import numpy as np\n",
    "import random\n",
    "import matplotlib.pyplot as plt\n",
    "\n",
    "from sklearn import linear_model\n",
    "from sklearn import datasets\n",
    "from sklearn.svm import l1_min_c\n",
    "from sklearn.utils import shuffle"
   ],
   "metadata": {
    "id": "epZd0bsRTubT"
   },
   "execution_count": 21,
   "outputs": []
  },
  {
   "cell_type": "code",
   "source": [
    "iris = datasets.load_iris()\n",
    "X = iris.data\n",
    "y = iris.target\n",
    "X.shape,y\n",
    "\n",
    "X = X[y != 2]\n",
    "y = y[y != 2]\n",
    "X.shape,y\n",
    "\n",
    "# standardization/normalization, which can speed up the convergence\n",
    "X /= X.max() "
   ],
   "metadata": {
    "id": "E3scWfKiTvP5",
    "colab": {
     "base_uri": "https://localhost:8080/"
    },
    "outputId": "27d16d92-d01a-46cd-c3ce-a68eb81c7a0e"
   },
   "execution_count": 23,
   "outputs": [
    {
     "output_type": "execute_result",
     "data": {
      "text/plain": [
       "((100, 4),\n",
       " array([0, 0, 0, 0, 0, 0, 0, 0, 0, 0, 0, 0, 0, 0, 0, 0, 0, 0, 0, 0, 0, 0,\n",
       "        0, 0, 0, 0, 0, 0, 0, 0, 0, 0, 0, 0, 0, 0, 0, 0, 0, 0, 0, 0, 0, 0,\n",
       "        0, 0, 0, 0, 0, 0, 1, 1, 1, 1, 1, 1, 1, 1, 1, 1, 1, 1, 1, 1, 1, 1,\n",
       "        1, 1, 1, 1, 1, 1, 1, 1, 1, 1, 1, 1, 1, 1, 1, 1, 1, 1, 1, 1, 1, 1,\n",
       "        1, 1, 1, 1, 1, 1, 1, 1, 1, 1, 1, 1]))"
      ]
     },
     "metadata": {},
     "execution_count": 23
    }
   ]
  },
  {
   "cell_type": "code",
   "source": [
    "# do a random shuffle to mix up 0 and 1\n",
    "X,y = shuffle(X,y)"
   ],
   "metadata": {
    "id": "Qyw-2Lu4WtPe"
   },
   "execution_count": 24,
   "outputs": []
  },
  {
   "cell_type": "code",
   "source": [
    "# train_test_split\n",
    "train_X = X[:80,]\n",
    "test_X = X[80:,]\n",
    "\n",
    "train_y = y[:80,]\n",
    "test_y = y[80:,]"
   ],
   "metadata": {
    "id": "xSRKP1mcTyfs"
   },
   "execution_count": 25,
   "outputs": []
  },
  {
   "cell_type": "code",
   "source": [
    "train_X.shape, train_y.shape, test_X.shape, test_y.shape"
   ],
   "metadata": {
    "colab": {
     "base_uri": "https://localhost:8080/"
    },
    "id": "D8LOhzz6Vp8q",
    "outputId": "761a93a8-d4f1-456f-cc63-b46012125cbc"
   },
   "execution_count": 26,
   "outputs": [
    {
     "output_type": "execute_result",
     "data": {
      "text/plain": [
       "((80, 4), (80,), (20, 4), (20,))"
      ]
     },
     "metadata": {},
     "execution_count": 26
    }
   ]
  },
  {
   "cell_type": "code",
   "source": [
    "# creating an empty LR object\n",
    "clf = linear_model.LogisticRegression(penalty=\"l2\")\n",
    "\n",
    "# fit the model\n",
    "clf.fit(train_X, train_y)\n",
    "\n",
    "# making the prediction\n",
    "y_pred = clf.predict(test_X)"
   ],
   "metadata": {
    "id": "yI4wphxZUh-B"
   },
   "execution_count": 27,
   "outputs": []
  },
  {
   "cell_type": "code",
   "source": [
    "# accuracy of the prediction\n",
    "np.mean(test_y == y_pred)\n",
    "y_pred"
   ],
   "metadata": {
    "colab": {
     "base_uri": "https://localhost:8080/"
    },
    "id": "WuSsjncek-w-",
    "outputId": "76e33cb4-4623-4f17-d4f0-771fa61422f0"
   },
   "execution_count": 31,
   "outputs": [
    {
     "output_type": "execute_result",
     "data": {
      "text/plain": [
       "array([1, 0, 0, 0, 1, 0, 1, 1, 0, 1, 1, 1, 1, 0, 0, 0, 0, 1, 1, 0])"
      ]
     },
     "metadata": {},
     "execution_count": 31
    }
   ]
  },
  {
   "cell_type": "code",
   "source": [
    "# get the predicted probability of each instance/sample\n",
    "clf.predict_proba(test_X)"
   ],
   "metadata": {
    "id": "7jL-bZvrWK7M",
    "colab": {
     "base_uri": "https://localhost:8080/"
    },
    "outputId": "7ecf3a9c-b7a4-4082-dac0-310fb4549084"
   },
   "execution_count": 30,
   "outputs": [
    {
     "output_type": "execute_result",
     "data": {
      "text/plain": [
       "array([[0.00814973, 0.99185027],\n",
       "       [0.96318642, 0.03681358],\n",
       "       [0.96292587, 0.03707413],\n",
       "       [0.97395144, 0.02604856],\n",
       "       [0.00145478, 0.99854522],\n",
       "       [0.97041389, 0.02958611],\n",
       "       [0.01940588, 0.98059412],\n",
       "       [0.00384835, 0.99615165],\n",
       "       [0.97398103, 0.02601897],\n",
       "       [0.00649933, 0.99350067],\n",
       "       [0.01019496, 0.98980504],\n",
       "       [0.00474367, 0.99525633],\n",
       "       [0.0633527 , 0.9366473 ],\n",
       "       [0.98680712, 0.01319288],\n",
       "       [0.95784327, 0.04215673],\n",
       "       [0.95292787, 0.04707213],\n",
       "       [0.98451085, 0.01548915],\n",
       "       [0.02869752, 0.97130248],\n",
       "       [0.01702505, 0.98297495],\n",
       "       [0.97703317, 0.02296683]])"
      ]
     },
     "metadata": {},
     "execution_count": 30
    }
   ]
  },
  {
   "cell_type": "markdown",
   "source": [
    "## Task: Do the linear regression using the first variable in the iris data set to predict the iris target, plot your prediction line and test sets, verify that we cannot use linear regression to fit the model."
   ],
   "metadata": {
    "id": "sG8wdWG3_dOJ"
   }
  },
  {
   "cell_type": "code",
   "source": [
    ""
   ],
   "metadata": {
    "id": "zdp3ZOb4LDgs"
   },
   "execution_count": null,
   "outputs": []
  },
  {
   "cell_type": "markdown",
   "source": [
    "## Random Forest Example"
   ],
   "metadata": {
    "id": "gaulA0GcgD3R"
   }
  },
  {
   "cell_type": "code",
   "source": [
    "import matplotlib.pyplot as plt\n",
    "\n",
    "from collections import OrderedDict\n",
    "from sklearn.datasets import make_classification\n",
    "from sklearn.ensemble import RandomForestClassifier"
   ],
   "metadata": {
    "id": "V1rslQBmgGm7"
   },
   "execution_count": null,
   "outputs": []
  },
  {
   "cell_type": "code",
   "source": [
    "RANDOM_STATE = 123\n",
    "\n",
    "X, y = make_classification(\n",
    "    n_samples=500,\n",
    "    n_features=25,\n",
    "    n_clusters_per_class=1,\n",
    "    n_informative=15,\n",
    "    random_state=RANDOM_STATE,\n",
    ")"
   ],
   "metadata": {
    "id": "UgLMjNdJgRfo"
   },
   "execution_count": null,
   "outputs": []
  },
  {
   "cell_type": "code",
   "source": [
    "ensemble_clfs = [\n",
    "    (\n",
    "        \"RandomForestClassifier, max_features='sqrt'\",\n",
    "        RandomForestClassifier(\n",
    "            warm_start=True,\n",
    "            oob_score=True,\n",
    "            max_features=\"sqrt\",\n",
    "            random_state=RANDOM_STATE,\n",
    "        ),\n",
    "    ),\n",
    "    (\n",
    "        \"RandomForestClassifier, max_features='log2'\",\n",
    "        RandomForestClassifier(\n",
    "            warm_start=True,\n",
    "            max_features=\"log2\",\n",
    "            oob_score=True,\n",
    "            random_state=RANDOM_STATE,\n",
    "        ),\n",
    "    ),\n",
    "    (\n",
    "        \"RandomForestClassifier, max_features=None\",\n",
    "        RandomForestClassifier(\n",
    "            warm_start=True,\n",
    "            max_features=None,\n",
    "            oob_score=True,\n",
    "            random_state=RANDOM_STATE,\n",
    "        ),\n",
    "    ),\n",
    "]"
   ],
   "metadata": {
    "id": "__4p-l-hidT_"
   },
   "execution_count": null,
   "outputs": []
  },
  {
   "cell_type": "code",
   "source": [
    "error_rate = OrderedDict((label, []) for label, _ in ensemble_clfs)\n",
    "\n",
    "min_estimators = 15\n",
    "max_estimators = 150\n",
    "\n",
    "for label, clf in ensemble_clfs:\n",
    "    for i in range(min_estimators, max_estimators + 1, 5):\n",
    "        clf.set_params(n_estimators=i)\n",
    "        clf.fit(X, y)\n",
    "\n",
    "        oob_error = 1 - clf.oob_score_\n",
    "        error_rate[label].append((i, oob_error))"
   ],
   "metadata": {
    "id": "1lYTfIfSjDpJ"
   },
   "execution_count": null,
   "outputs": []
  },
  {
   "cell_type": "code",
   "source": [
    "for label, clf_err in error_rate.items():\n",
    "    xs, ys = zip(*clf_err)\n",
    "    plt.plot(xs, ys, label=label)\n",
    "\n",
    "plt.xlim(min_estimators, max_estimators)\n",
    "plt.xlabel(\"# of trees\")\n",
    "plt.ylabel(\"OOB error rate\")\n",
    "plt.legend(loc=\"upper right\")\n",
    "plt.show()"
   ],
   "metadata": {
    "id": "SmveNMc6kzXn"
   },
   "execution_count": null,
   "outputs": []
  },
  {
   "cell_type": "markdown",
   "source": [
    "## Recognizing hand-written digits using SVM"
   ],
   "metadata": {
    "id": "a-ovSRSK86Nk"
   }
  },
  {
   "cell_type": "code",
   "execution_count": null,
   "metadata": {
    "id": "SOlxlYXg73wr"
   },
   "outputs": [],
   "source": [
    "import matplotlib.pyplot as plt\n",
    "from sklearn import datasets, svm, metrics\n",
    "from sklearn.model_selection import train_test_split"
   ]
  },
  {
   "cell_type": "code",
   "source": [
    "digits = datasets.load_digits()\n",
    "\n",
    "_, axes = plt.subplots(nrows=1, ncols=4, figsize=(10, 3))\n",
    "for ax, image, label in zip(axes, digits.images, digits.target):\n",
    "    ax.set_axis_off()\n",
    "    ax.imshow(image, cmap=plt.cm.gray_r, interpolation=\"nearest\")\n",
    "    ax.set_title(\"Training: %i\" % label)"
   ],
   "metadata": {
    "id": "Dx-Yx0LCjy_9"
   },
   "execution_count": null,
   "outputs": []
  },
  {
   "cell_type": "code",
   "source": [
    "n_samples = len(digits.images)\n",
    "data = digits.images.reshape((n_samples, -1))\n",
    "\n",
    "clf = svm.SVC(gamma=0.001)\n",
    "\n",
    "X_train, X_test, y_train, y_test = train_test_split(\n",
    "    data, digits.target, test_size=0.5, shuffle=False\n",
    ")\n",
    "\n",
    "clf.fit(X_train, y_train)\n",
    "predicted = clf.predict(X_test)"
   ],
   "metadata": {
    "id": "2RF2Bz5Tj6fb"
   },
   "execution_count": null,
   "outputs": []
  },
  {
   "cell_type": "code",
   "source": [
    "np.mean(predicted == y_test)"
   ],
   "metadata": {
    "id": "5DQJRXtDNpd3"
   },
   "execution_count": null,
   "outputs": []
  },
  {
   "cell_type": "code",
   "source": [
    "_, axes = plt.subplots(nrows=1, ncols=4, figsize=(10, 3))\n",
    "for ax, image, prediction, true in zip(axes, X_test, predicted, y_test):\n",
    "    ax.set_axis_off()\n",
    "    image = image.reshape(8, 8)\n",
    "    ax.imshow(image, cmap=plt.cm.gray_r, interpolation=\"nearest\")\n",
    "    ax.set_title(f\"Prediction/true: {prediction, true}\")"
   ],
   "metadata": {
    "id": "v95CA0BGt-tR"
   },
   "execution_count": null,
   "outputs": []
  },
  {
   "cell_type": "code",
   "source": [
    "disp = metrics.ConfusionMatrixDisplay.from_predictions(y_test, predicted)\n",
    "disp.figure_.suptitle(\"Confusion Matrix\")\n",
    "print(f\"Confusion matrix:\\n{disp.confusion_matrix}\")\n",
    "\n",
    "plt.show()"
   ],
   "metadata": {
    "id": "kFRDKK5TkXGv"
   },
   "execution_count": null,
   "outputs": []
  },
  {
   "cell_type": "markdown",
   "source": [
    "## K-means example"
   ],
   "metadata": {
    "id": "EhKboI6sVuwx"
   }
  },
  {
   "cell_type": "code",
   "source": [
    "import numpy as np\n",
    "import matplotlib.pyplot as plt\n",
    "from mpl_toolkits.mplot3d import Axes3D\n",
    "\n",
    "from sklearn.cluster import KMeans\n",
    "from sklearn import datasets"
   ],
   "metadata": {
    "id": "g-oFc4PcVuQI"
   },
   "execution_count": null,
   "outputs": []
  },
  {
   "cell_type": "code",
   "source": [
    "iris = datasets.load_iris()\n",
    "X = iris.data\n",
    "y = iris.target\n",
    "\n",
    "estimators = [\n",
    "    (\"k_means_iris_8\", KMeans(n_clusters=8)),\n",
    "    (\"k_means_iris_3\", KMeans(n_clusters=3)),\n",
    "    (\"k_means_iris_bad_init\", KMeans(n_clusters=3, n_init=1, init=\"random\")),\n",
    "]"
   ],
   "metadata": {
    "id": "xee9YOIJVy6P"
   },
   "execution_count": null,
   "outputs": []
  },
  {
   "cell_type": "code",
   "source": [
    "fignum = 1\n",
    "titles = [\"8 clusters\", \"3 clusters\", \"3 clusters, bad initialization\"]\n",
    "for name, est in estimators:\n",
    "    fig = plt.figure(fignum, figsize=(4, 3))\n",
    "    ax = Axes3D(fig, rect=[0, 0, 0.95, 1], elev=48, azim=134)\n",
    "    est.fit(X)\n",
    "    labels = est.labels_\n",
    "\n",
    "    ax.scatter(X[:, 3], X[:, 0], X[:, 2], c=labels.astype(float), edgecolor=\"k\")\n",
    "\n",
    "    ax.w_xaxis.set_ticklabels([])\n",
    "    ax.w_yaxis.set_ticklabels([])\n",
    "    ax.w_zaxis.set_ticklabels([])\n",
    "    ax.set_xlabel(\"Petal width\")\n",
    "    ax.set_ylabel(\"Sepal length\")\n",
    "    ax.set_zlabel(\"Petal length\")\n",
    "    ax.set_title(titles[fignum - 1])\n",
    "    ax.dist = 12\n",
    "    fignum = fignum + 1"
   ],
   "metadata": {
    "id": "P5eLER-7V8Sp"
   },
   "execution_count": null,
   "outputs": []
  },
  {
   "cell_type": "markdown",
   "source": [
    "## PCA"
   ],
   "metadata": {
    "id": "iZnduUVuyylJ"
   }
  },
  {
   "cell_type": "code",
   "source": [
    "import numpy as np\n",
    "import matplotlib.pyplot as plt\n",
    "from mpl_toolkits.mplot3d import Axes3D\n",
    "\n",
    "\n",
    "from sklearn import decomposition\n",
    "from sklearn import datasets\n",
    "\n",
    "np.random.seed(5)\n",
    "\n",
    "iris = datasets.load_iris()\n",
    "X = iris.data\n",
    "y = iris.target"
   ],
   "metadata": {
    "id": "K2KZhU-dyzWF"
   },
   "execution_count": null,
   "outputs": []
  },
  {
   "cell_type": "code",
   "source": [
    "X.shape"
   ],
   "metadata": {
    "id": "pdN3INaRYT_c"
   },
   "execution_count": null,
   "outputs": []
  },
  {
   "cell_type": "code",
   "source": [
    "pca = decomposition.PCA(n_components=3)\n",
    "pca.fit(X)\n",
    "X = pca.transform(X)"
   ],
   "metadata": {
    "id": "Kv-WfIccy8ox"
   },
   "execution_count": null,
   "outputs": []
  },
  {
   "cell_type": "code",
   "source": [
    "X.shape"
   ],
   "metadata": {
    "id": "ly8t5OW6Yk9c"
   },
   "execution_count": null,
   "outputs": []
  },
  {
   "cell_type": "code",
   "source": [
    "fig = plt.figure(1, figsize=(4, 3))\n",
    "plt.clf()\n",
    "ax = Axes3D(fig, rect=[0, 0, 0.95, 1], elev=48, azim=134)\n",
    "plt.cla()\n",
    "for name, label in [(\"Setosa\", 0), (\"Versicolour\", 1), (\"Virginica\", 2)]:\n",
    "    ax.text3D(\n",
    "        X[y == label, 0].mean(),\n",
    "        X[y == label, 1].mean() + 1.5,\n",
    "        X[y == label, 2].mean(),\n",
    "        name,\n",
    "        horizontalalignment=\"center\",\n",
    "        bbox=dict(alpha=0.5, edgecolor=\"w\", facecolor=\"w\"),\n",
    "    )\n",
    "# Reorder the labels to have colors matching the cluster results\n",
    "y = np.choose(y, [1, 2, 0]).astype(float)\n",
    "ax.scatter(X[:, 0], X[:, 1], X[:, 2], c=y, cmap=plt.cm.nipy_spectral, edgecolor=\"k\")\n",
    "\n",
    "ax.w_xaxis.set_ticklabels([])\n",
    "ax.w_yaxis.set_ticklabels([])\n",
    "ax.w_zaxis.set_ticklabels([])\n",
    "\n",
    "plt.show()"
   ],
   "metadata": {
    "id": "LlTHM-lMy_NF"
   },
   "execution_count": null,
   "outputs": []
  },
  {
   "cell_type": "code",
   "source": [
    "iris = datasets.load_iris()\n",
    "X = iris.data\n",
    "y = iris.target\n",
    "pca = decomposition.PCA(n_components=2)\n",
    "pca.fit(X)\n",
    "X = pca.transform(X)"
   ],
   "metadata": {
    "id": "pgKVuWlYSBXM"
   },
   "execution_count": null,
   "outputs": []
  },
  {
   "cell_type": "code",
   "source": [
    "X.shape"
   ],
   "metadata": {
    "id": "qF_ZquwHSMJi"
   },
   "execution_count": null,
   "outputs": []
  },
  {
   "cell_type": "code",
   "source": [
    "fig = plt.figure(1, figsize=(10, 5))\n",
    "# plt.clf()\n",
    "# ax = Axes3D(fig, rect=[0, 0, 0.95, 1], elev=48, azim=134)\n",
    "# plt.cla()\n",
    "for name, label in [(\"Setosa\", 0), (\"Versicolour\", 1), (\"Virginica\", 2)]:\n",
    "    plt.scatter(X[y==label, 0], X[y==label, 1], label=name)\n",
    "# Reorder the labels to have colors matching the cluster results\n",
    "# y = np.choose(y, [1, 2, 0]).astype(float)\n",
    "plt.legend()\n",
    "# ax.w_xaxis.set_ticklabels([])\n",
    "# ax.w_yaxis.set_ticklabels([])\n",
    "# ax.w_zaxis.set_ticklabels([])\n",
    "\n",
    "plt.show()"
   ],
   "metadata": {
    "id": "puPTlXaHY1T6"
   },
   "execution_count": null,
   "outputs": []
  },
  {
   "cell_type": "markdown",
   "source": [
    "variable selection: all variable in new space is in old space\n",
    "\n",
    "PCA: all variable in the new space is not in old space, but calculated from the old space"
   ],
   "metadata": {
    "id": "5VAglQNcZV0P"
   }
  }
 ]
}
